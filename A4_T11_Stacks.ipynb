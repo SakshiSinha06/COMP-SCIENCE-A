{
 "cells": [
  {
   "cell_type": "markdown",
   "metadata": {
    "id": "cRmuBE-U9Xz2"
   },
   "source": [
    "### Instructions:\n",
    "\n",
    "- You can attempt any number of questions and in any order.  \n",
    "  See the assignment page for a description of the hurdle requirement for this assessment.\n",
    "- You may submit your practical for autograding as many times as you like to check on progress, however you will save time by checking and testing your own code before submitting.\n",
    "- Develop and check your answers in the spaces provided.\n",
    "- **Replace** the code `raise NotImplementedError()` with your solution to the question.\n",
    "- Do **NOT** remove any variables other provided markings already provided in the answer spaces.\n",
    "- Do **NOT** make any changes to this notebook outside of the spaces indicated.  \n",
    "  (If you do this, the submission system might not accept your work)\n",
    "\n",
    "### Submitting:\n",
    "\n",
    "1. Before you turn this problem in, make sure everything runs as expected by resetting this notebook.    \n",
    "   (You can do this from the menubar above by selecting `Kernel`&#8594;`Restart Kernel and Run All Cells...`)\n",
    "1. Don't forget to save your notebook after this step.\n",
    "1. Submit your .ipynb file to Gradescope via file upload or GitHub repository.\n",
    "1. You can submit as many times as needed.\n",
    "1. You **must** give your submitted file the **identical** filename to that which you downloaded without changing **any** aspects - spaces, underscores, capitalisation etc. If your operating system has changed the filename because you downloaded the file twice or more you **must** also fix this.  \n",
    "\n"
   ]
  },
  {
   "cell_type": "markdown",
   "metadata": {
    "id": "GgkcUVdL9Xz4"
   },
   "source": [
    "---"
   ]
  },
  {
   "cell_type": "markdown",
   "metadata": {
    "id": "YAJu_Nfw9Xz4"
   },
   "source": [
    "# <mark style=\"background: #a48752; color: #ffffff;\" >&nbsp;A4&nbsp;</mark> Topic 11: Stacks"
   ]
  },
  {
   "cell_type": "markdown",
   "metadata": {
    "id": "YGeCvswu9Xz4"
   },
   "source": [
    "#### Question 1&nbsp;&nbsp;&nbsp;&nbsp;&nbsp;&nbsp;(10 Points)\n",
    "Suppose we have two stacks and no other temporary variable. Construct a queue data structure using only these two stacks. Use the following template for `Q1Queue` when developing the solution and raise an `IndexError` when dequeue is called on an empty queue. Next, create a instance `q1` and check if the enqueue and dequeue operations are correctly working."
   ]
  },
  {
   "cell_type": "code",
   "execution_count": 1,
   "metadata": {
    "ExecuteTime": {
     "end_time": "2022-03-28T08:13:13.775211Z",
     "start_time": "2022-03-28T08:13:13.754711Z"
    },
    "deletable": false,
    "id": "p1XrOGkw9Xz4",
    "nbgrader": {
     "cell_type": "code",
     "checksum": "594baf897103fe46f0eb1d25d47ab479",
     "grade": false,
     "grade_id": "A1",
     "locked": false,
     "schema_version": 3,
     "solution": true,
     "task": false
    }
   },
   "outputs": [],
   "source": [
    "class Q1Queue:\n",
    "\n",
    "    def __init__(self):\n",
    "        self.s1 = [] # stack 1\n",
    "        self.s2 = [] # stack 2\n",
    "\n",
    "    # enqueue an item from the queue\n",
    "    def enqueue(self, x):\n",
    "        self.s1.insert(0,x)\n",
    "\n",
    "    # dequeue an item from the queue\n",
    "    def dequeue(self):\n",
    "        if len(self.s1) and len(self.s2):\n",
    "            raise IndexError(\"IndexError\")\n",
    "        else:\n",
    "            while len(self.s1):\n",
    "                self.s2.insert(0,self.s1.pop(0))\n",
    "            x = self.s2.pop(0)\n",
    "            while len(self.s2):\n",
    "                self.s1.insert(0,self.s2.pop(0))                \n",
    "            self.s2 = []                   \n",
    "        return x # return the enqueued value\n",
    "\n",
    "# YOUR CODE HERE\n"
   ]
  },
  {
   "cell_type": "code",
   "execution_count": 2,
   "metadata": {
    "colab": {
     "base_uri": "https://localhost:8080/"
    },
    "id": "afgdRltg9Xz5",
    "outputId": "4e8151fc-408d-4f9e-cb74-105a25ba5b63"
   },
   "outputs": [
    {
     "name": "stdout",
     "output_type": "stream",
     "text": [
      "1 [3, 2]\n"
     ]
    }
   ],
   "source": [
    "# Sample test case\n",
    "\n",
    "q1 = Q1Queue()\n",
    "q1.enqueue(1)\n",
    "q1.enqueue(2)\n",
    "q1.enqueue(3)\n",
    "assert q1.s1 == [3, 2, 1]\n",
    "\n",
    "popped = q1.dequeue()\n",
    "print(popped, q1.s1)\n",
    "assert popped == 1 and q1.s1 == [3, 2]"
   ]
  },
  {
   "cell_type": "code",
   "execution_count": 3,
   "metadata": {
    "ExecuteTime": {
     "end_time": "2022-03-28T08:18:53.367624Z",
     "start_time": "2022-03-28T08:18:53.356749Z"
    },
    "deletable": false,
    "editable": false,
    "id": "ZNRg8DNO9Xz6",
    "nbgrader": {
     "cell_type": "code",
     "checksum": "f20db386cb347ea1f9f37a094c28efa4",
     "grade": true,
     "grade_id": "test_A1-queue",
     "locked": true,
     "points": 10,
     "schema_version": 3,
     "solution": false,
     "task": false
    }
   },
   "outputs": [],
   "source": [
    "# Testing Cell (Do NOT modify this cell)"
   ]
  },
  {
   "cell_type": "markdown",
   "metadata": {
    "id": "O73BdDJs9Xz6"
   },
   "source": [
    "#### Question 2&nbsp;&nbsp;&nbsp;&nbsp;&nbsp;&nbsp;(10 Points)\n",
    "Given two queues with their standard operations (e.g., enqueue, dequeue, size), implement a stack with its standard operations (pop, push, top, size). Next, create a instance `q2` and push 1, 2, 3, 4 and then pop once."
   ]
  },
  {
   "cell_type": "code",
   "execution_count": 4,
   "metadata": {
    "ExecuteTime": {
     "end_time": "2022-03-28T23:24:01.886602Z",
     "start_time": "2022-03-28T23:24:01.865661Z"
    },
    "deletable": false,
    "id": "SzajnOC69Xz6",
    "nbgrader": {
     "cell_type": "code",
     "checksum": "97558107cd9a345a24709c5faf8eb162",
     "grade": false,
     "grade_id": "A2",
     "locked": false,
     "schema_version": 3,
     "solution": true,
     "task": false
    }
   },
   "outputs": [],
   "source": [
    "from queue import Queue\n",
    "\n",
    "class Q2Stack:\n",
    "\n",
    "    def __init__(self):\n",
    "        self.q1 = Queue()\n",
    "        self.q2 = Queue()\n",
    "\n",
    "        # To maintain current number of elements\n",
    "        self.curr_size = 0\n",
    "\n",
    "    def push(self, x):\n",
    "        self.q1.put(x)\n",
    "        self.curr_size += 1\n",
    "\n",
    "\n",
    "    def pop(self):\n",
    "        while not self.q1.qsize() == 1:\n",
    "            self.q2.put(self.q1.get())\n",
    "        self.q1.get()\n",
    "        self.q1, self.q2 = self.q2, self.q1\n",
    "        self.curr_size -=1\n",
    "\n",
    "\n",
    "    def top(self):\n",
    "        if self.curr_size == 0:\n",
    "            return\n",
    "        while not self.q1.empty():\n",
    "            if self.q1.qsize() == 1:\n",
    "                top = self.q1.get()\n",
    "                self.q2.put(top)\n",
    "                break\n",
    "            else:\n",
    "                self.q2.put(self.q1.get())\n",
    "        self.q1, self.q2 = self.q2, self.q1\n",
    "        return top # return the top value\n",
    "\n",
    "\n",
    "    def size(self):\n",
    "        return self.curr_size # return the size\n",
    "\n",
    "# YOUR CODE HERE\n"
   ]
  },
  {
   "cell_type": "code",
   "execution_count": 5,
   "metadata": {
    "id": "KcoUL6gj9Xz6"
   },
   "outputs": [],
   "source": [
    "# Sample test case\n",
    "q2 = Q2Stack()\n",
    "q2.push(1)\n",
    "q2.push(2)\n",
    "q2.push(3)\n",
    "assert q2.top() == 3\n",
    "q2.pop()\n",
    "assert q2.top() == 2\n",
    "# q2 = Q2Stack()\n",
    "# q2.push(3)\n",
    "# q2.push(4)\n",
    "# q2.push(1)\n",
    "# print(q2.top())\n",
    "# q2.pop()\n",
    "# print(q2.top())"
   ]
  },
  {
   "cell_type": "code",
   "execution_count": 6,
   "metadata": {
    "ExecuteTime": {
     "end_time": "2022-03-28T23:06:47.614853Z",
     "start_time": "2022-03-28T23:06:47.601888Z"
    },
    "deletable": false,
    "editable": false,
    "id": "UwvGtek49Xz7",
    "nbgrader": {
     "cell_type": "code",
     "checksum": "0f818387e9ca4fecdaabb4b53f22b981",
     "grade": true,
     "grade_id": "test_A2-stack",
     "locked": true,
     "points": 10,
     "schema_version": 3,
     "solution": false,
     "task": false
    }
   },
   "outputs": [],
   "source": [
    "# Testing Cell (Do NOT modify this cell)"
   ]
  },
  {
   "cell_type": "markdown",
   "metadata": {
    "id": "Uf9XjGi19Xz7"
   },
   "source": [
    "#### Question 3&nbsp;&nbsp;&nbsp;&nbsp;&nbsp;&nbsp;(10 Points)\n",
    "Write a Python program to reverse a string using a stack. Use the following template when developing the solution. Next, create a instance `q3` and check if the reverse operation is correctly working. You should raise an `IndexError` when pop is called on an empty stack."
   ]
  },
  {
   "cell_type": "code",
   "execution_count": 47,
   "metadata": {
    "ExecuteTime": {
     "end_time": "2022-03-28T23:25:21.296007Z",
     "start_time": "2022-03-28T23:25:21.281020Z"
    },
    "deletable": false,
    "id": "yh0mj8Kk9Xz7",
    "nbgrader": {
     "cell_type": "code",
     "checksum": "3404abbb82227f08d7f77223a01e68cd",
     "grade": false,
     "grade_id": "A3",
     "locked": false,
     "schema_version": 3,
     "solution": true,
     "task": false
    },
    "run_control": {
     "marked": true
    }
   },
   "outputs": [],
   "source": [
    "from queue import LifoQueue\n",
    "class Q3Stack:\n",
    "\n",
    "    # your implementation with initialiser and methods\n",
    "    def __init__(self):\n",
    "        self.s1 = LifoQueue(maxsize = 0)\n",
    "        self.count = 0\n",
    "\n",
    "    def isEmpty(self):\n",
    "        return self.count == 0\n",
    "\n",
    "    def pop(self):\n",
    "        if self.s1.empty():\n",
    "            raise IndexError(\"IndexError\")\n",
    "        else:\n",
    "            a = self.s1.get()\n",
    "            self.count -= 1\n",
    "        return a\n",
    "        \n",
    "    def push(self, value):\n",
    "        self.s1.put(value)\n",
    "        self.count += 1\n",
    "\n",
    "    def reverse(self, string):\n",
    "        for i in string:\n",
    "            self.s1.put(i)\n",
    "        string = \"\"\n",
    "        while self.s1.qsize() >0:\n",
    "            string += self.s1.get()\n",
    "        return string # return the reversed string\n",
    "\n",
    "# YOUR CODE HERE"
   ]
  },
  {
   "cell_type": "code",
   "execution_count": 50,
   "metadata": {
    "id": "LsztyQu39Xz7"
   },
   "outputs": [
    {
     "data": {
      "text/plain": [
       "9"
      ]
     },
     "execution_count": 50,
     "metadata": {},
     "output_type": "execute_result"
    }
   ],
   "source": [
    "# Sample test case\n",
    "\n",
    "stack = Q3Stack()\n",
    "assert stack.isEmpty()\n",
    "assert stack.reverse('hello') == 'olleh'\n",
    "stack.push(4)\n",
    "stack.push(7)\n",
    "stack.push(9)\n",
    "stack.pop()"
   ]
  },
  {
   "cell_type": "code",
   "execution_count": 9,
   "metadata": {
    "ExecuteTime": {
     "end_time": "2022-03-28T23:28:14.565766Z",
     "start_time": "2022-03-28T23:28:14.562767Z"
    },
    "deletable": false,
    "editable": false,
    "id": "kNc4SQG79Xz7",
    "nbgrader": {
     "cell_type": "code",
     "checksum": "eb028a6b523ee31e6553edfe87867182",
     "grade": true,
     "grade_id": "test_A3-stackReverse",
     "locked": true,
     "points": 10,
     "schema_version": 3,
     "solution": false,
     "task": false
    }
   },
   "outputs": [],
   "source": [
    "# Testing Cell (Do NOT modify this cell)"
   ]
  },
  {
   "cell_type": "markdown",
   "metadata": {
    "id": "UR1rF5Oe9Xz7"
   },
   "source": [
    "#### Question 4&nbsp;&nbsp;&nbsp;&nbsp;&nbsp;&nbsp;(10 Points)\n",
    "Given a stack of integers, write a Python program to sort it in ascending order using another temporary stack. For example, give a stack [3, 5, 1, 4, 2, 8] the output should be [1, 2, 3, 4, 5, 8]. Use the following template when developing the solution. Next, create a instance `q4` and check if the enqueue and dequeue operations are correctly working."
   ]
  },
  {
   "cell_type": "code",
   "execution_count": 10,
   "metadata": {
    "ExecuteTime": {
     "end_time": "2022-03-28T23:29:22.345970Z",
     "start_time": "2022-03-28T23:29:22.329287Z"
    },
    "deletable": false,
    "id": "PbCjBowb9Xz7",
    "nbgrader": {
     "cell_type": "code",
     "checksum": "c24bdf0686eb7ea5dd18e31d90eb1897",
     "grade": false,
     "grade_id": "A4",
     "locked": false,
     "schema_version": 3,
     "solution": true,
     "task": false
    }
   },
   "outputs": [],
   "source": [
    "from queue import LifoQueue\n",
    "class Q4Stack(Q3Stack):\n",
    "\n",
    "#     def __init__(self):\n",
    "#         self.s1 = LifoQueue(maxsize = 0)\n",
    "#         self.count = 0\n",
    "\n",
    "#     #  Add a new element in stack\n",
    "#     def push(self, data):\n",
    "#         self.s1.put(data)\n",
    "#         self.count +=1\n",
    "\n",
    "    def sort_stack(self):\n",
    "        mylist = []\n",
    "        s2 = LifoQueue(maxsize = 0)\n",
    "        while self.s1.qsize() >0:\n",
    "            temp = self.s1.get()\n",
    "            mylist.append(temp)\n",
    "            s2.put(temp)\n",
    "        mylist.sort()\n",
    "        self.s1 = s2\n",
    "        return mylist #return the sorted stack as a list\n",
    "    \n",
    "    def size(self):\n",
    "        return self.count\n",
    "    \n",
    "    def peek(self):\n",
    "        if self.count != 0:\n",
    "            top = self.s1.get()\n",
    "            self.s1.put(top)\n",
    "            return top\n",
    "    \n",
    "#     def isEmpty(self):\n",
    "#         return self.s1.empty()\n",
    "    \n",
    "#     def pop(self):\n",
    "#         if self.s1.empty():\n",
    "#             raise IndexError(\"IndexError\")\n",
    "#         else:\n",
    "#             self.s1.get()\n",
    "#             self.count -= 1\n",
    "\n",
    "\n",
    "\n",
    "# YOUR CODE HERE\n"
   ]
  },
  {
   "cell_type": "code",
   "execution_count": 38,
   "metadata": {
    "colab": {
     "base_uri": "https://localhost:8080/"
    },
    "id": "ulwrOlpK9Xz7",
    "outputId": "41d2bb30-fc63-4101-c549-9cb9de2fbb22"
   },
   "outputs": [
    {
     "data": {
      "text/plain": [
       "[1, 3, 4, 7, 9, 12]"
      ]
     },
     "execution_count": 38,
     "metadata": {},
     "output_type": "execute_result"
    }
   ],
   "source": [
    "# Sample test case\n",
    "\n",
    "q4 = Q4Stack()\n",
    "q4.push(4)\n",
    "q4.push(7)\n",
    "q4.push(9)\n",
    "q4.push(1)\n",
    "q4.push(12)\n",
    "q4.push(3)\n",
    "\n",
    "q4.sort_stack()\n"
   ]
  },
  {
   "cell_type": "code",
   "execution_count": 12,
   "metadata": {
    "ExecuteTime": {
     "end_time": "2022-03-28T23:31:32.251198Z",
     "start_time": "2022-03-28T23:31:32.241222Z"
    },
    "deletable": false,
    "editable": false,
    "id": "Fwn8OFIV9Xz7",
    "nbgrader": {
     "cell_type": "code",
     "checksum": "08a7b020979f0cf3dea6675a7522ebcf",
     "grade": true,
     "grade_id": "test_A4-stackNode",
     "locked": true,
     "points": 10,
     "schema_version": 3,
     "solution": false,
     "task": false
    }
   },
   "outputs": [],
   "source": [
    "# Testing Cell (Do NOT modify this cell)"
   ]
  },
  {
   "cell_type": "markdown",
   "metadata": {
    "id": "KqjypbSY9Xz7"
   },
   "source": [
    "#### Question 5&nbsp;&nbsp;&nbsp;&nbsp;&nbsp;&nbsp;(10 Points)\n",
    "Write a Python program to check if parentheses are balanced using a stack. Use the method `q5_parentheses`, which returns `True` if balanced. Otherwise, `False`. A set of parentheses is balanced if for every opening parenthesis there is a closing and matching parenthesis.  Hence:\n",
    "```python\n",
    "    ({[]})()\n",
    "```\n",
    "is balanced, while:\n",
    "```python\n",
    "    ({[}])\n",
    "```\n",
    "is not.\n"
   ]
  },
  {
   "cell_type": "code",
   "execution_count": 13,
   "metadata": {
    "ExecuteTime": {
     "end_time": "2022-03-28T23:39:29.623205Z",
     "start_time": "2022-03-28T23:39:29.616253Z"
    },
    "deletable": false,
    "id": "2zo6NXZB9Xz7",
    "nbgrader": {
     "cell_type": "code",
     "checksum": "3d4ad6fedae4fd00afa5b9e1f83d98ad",
     "grade": false,
     "grade_id": "A5",
     "locked": false,
     "schema_version": 3,
     "solution": true,
     "task": false
    }
   },
   "outputs": [],
   "source": [
    "from queue import LifoQueue\n",
    "def q5_parentheses(rstring):\n",
    "    mapping = {\")\": \"(\", \"}\": \"{\", \"]\": \"[\", \"(\" : \")\" , \"{\" : \"}\", \"[\" : \"]\"}\n",
    "    s1 = LifoQueue(maxsize = 0)\n",
    "    for i in rstring:\n",
    "        if i in mapping:\n",
    "            s1.put(i)\n",
    "    lst1 = []\n",
    "    while not s1.empty():\n",
    "        i = s1.get()\n",
    "        lst1.append(i)\n",
    "        if mapping[i] in lst1 and (abs((lst1.index(i) - lst1.index(mapping[i]))) == 1):\n",
    "            lst1.remove(i)\n",
    "            lst1.remove(mapping[i])\n",
    "    return not bool(len(lst1))\n",
    "\n",
    "# def q5_parentheses(rstring):\n",
    "#     s1 = LifoQueue(maxsize = 0)\n",
    "#     mapping = {\"(\" : \")\" , \"{\" : \"}\", \"[\" : \"]\"}\n",
    "#     for i in rstring:\n",
    "#         if i in mapping:\n",
    "#             s1.put(i)\n",
    "#         elif i in mapping.values():\n",
    "#             a = s1.get()\n",
    "#             if mapping[a] != i:\n",
    "#                 return False\n",
    "#     return s1.qsize() == 0\n",
    "\n",
    "\n",
    "    # YOUR CODE HERE"
   ]
  },
  {
   "cell_type": "code",
   "execution_count": 14,
   "metadata": {
    "id": "jvR8K5jY9Xz7"
   },
   "outputs": [],
   "source": [
    "# sample test cases\n",
    "\n",
    "assert not q5_parentheses (\"{\")\n",
    "assert q5_parentheses (\"{[()]}\")\n",
    "assert not q5_parentheses (\"{[(])}\")\n",
    "\n",
    "assert q5_parentheses(\"(a)\")\n",
    "assert q5_parentheses(\"({[]})()\")\n",
    "assert not q5_parentheses(\"((())\")"
   ]
  },
  {
   "cell_type": "code",
   "execution_count": 15,
   "metadata": {
    "ExecuteTime": {
     "end_time": "2022-03-28T23:35:10.510048Z",
     "start_time": "2022-03-28T23:35:10.504094Z"
    },
    "deletable": false,
    "editable": false,
    "id": "l7eETIa69Xz8",
    "nbgrader": {
     "cell_type": "code",
     "checksum": "7c967496a2bbd5a4896162b95a60528d",
     "grade": true,
     "grade_id": "test_A5-paranthesis",
     "locked": true,
     "points": 10,
     "schema_version": 3,
     "solution": false,
     "task": false
    }
   },
   "outputs": [],
   "source": [
    "# Testing Cell (Do NOT modify this cell)"
   ]
  },
  {
   "cell_type": "markdown",
   "metadata": {
    "id": "bRZb9pk89Xz8"
   },
   "source": [
    "#### Question 6&nbsp;&nbsp;&nbsp;&nbsp;&nbsp;&nbsp;(10 Points)\n",
    "Write a Python program to check if an expression has duplicate parenthesis or not using stacks. Use the method `q6_duplicate_parentheses`, which returns `True` if it has duplicates. Otherwise, `False`.\n",
    "\n",
    "For example:\n",
    "```python\n",
    "    (((x+(y))+(m+n)))\n",
    "```\n",
    "has duplicate parenthesis since the whole expression is surrounded by two pairs of brackets. While\n",
    "```python\n",
    "    ((x+y)+(m+n))\n",
    "```\n",
    "does not have any duplicate parenthesis since no subsexpression is surrounded by duplicate brackets."
   ]
  },
  {
   "cell_type": "code",
   "execution_count": 16,
   "metadata": {
    "ExecuteTime": {
     "end_time": "2022-03-28T23:48:06.994956Z",
     "start_time": "2022-03-28T23:48:06.983971Z"
    },
    "deletable": false,
    "id": "sfVDCdpI9Xz8",
    "nbgrader": {
     "cell_type": "code",
     "checksum": "61933801f037d8a8d6a7e022b2971ad2",
     "grade": false,
     "grade_id": "A6",
     "locked": false,
     "schema_version": 3,
     "solution": true,
     "task": false
    }
   },
   "outputs": [],
   "source": [
    "from queue import LifoQueue\n",
    "def q6_duplicate_parentheses(dstring):\n",
    "    s1 = LifoQueue(maxsize = 0)\n",
    "    for i in dstring:\n",
    "        if i == \")\":\n",
    "            top = s1.get()\n",
    "            elementsInside = 0\n",
    "            while top != '(': \n",
    "             \n",
    "                elementsInside += 1\n",
    "                top = s1.get() \n",
    "             \n",
    "            if elementsInside < 1: \n",
    "                return True\n",
    "        else:\n",
    "            s1.put(i)\n",
    "            \n",
    "    return False\n",
    "    # YOUR CODE HERE\n"
   ]
  },
  {
   "cell_type": "code",
   "execution_count": 17,
   "metadata": {
    "id": "I35AEcAD9Xz8"
   },
   "outputs": [
    {
     "name": "stdout",
     "output_type": "stream",
     "text": [
      "True\n"
     ]
    }
   ],
   "source": [
    "# Sample test cases\n",
    "\n",
    "assert not q6_duplicate_parentheses (\"(a)\")\n",
    "assert q6_duplicate_parentheses (\"(((x+(y))+(m+n)))\")\n",
    "assert not q6_duplicate_parentheses (\"((x+y)+(m+n))\")\n",
    "print(q6_duplicate_parentheses (\"((a+b+c))\"))"
   ]
  },
  {
   "cell_type": "code",
   "execution_count": 18,
   "metadata": {
    "ExecuteTime": {
     "end_time": "2022-03-28T23:48:11.530251Z",
     "start_time": "2022-03-28T23:48:11.519274Z"
    },
    "deletable": false,
    "editable": false,
    "id": "Sp8LxECV9Xz8",
    "nbgrader": {
     "cell_type": "code",
     "checksum": "506cf28ea489c5d501a6f7d5ab4333e0",
     "grade": true,
     "grade_id": "test_A6-paranthesis",
     "locked": true,
     "points": 10,
     "schema_version": 3,
     "solution": false,
     "task": false
    }
   },
   "outputs": [],
   "source": [
    "# Testing Cell (Do NOT modify this cell)"
   ]
  },
  {
   "cell_type": "markdown",
   "metadata": {
    "id": "y2dmpNOD9Xz8"
   },
   "source": [
    "#### Question 7&nbsp;&nbsp;&nbsp;&nbsp;&nbsp;&nbsp;(10 Points)\n",
    "Write a Python program to to check if parentheses are balanced using a queue. Use the method `q7_balanced`, which returns `True` if balanced. Otherwise, `False`. Parentheses are balanced when for every opening parenthesis, there is an appropriately placed closing parenthesis. Hence:\n",
    "```python\n",
    "    ({[]})()\n",
    "```\n",
    "is balanced, while:\n",
    "```python\n",
    "    ({[}])\n",
    "```\n",
    "is not."
   ]
  },
  {
   "cell_type": "code",
   "execution_count": 19,
   "metadata": {
    "ExecuteTime": {
     "end_time": "2022-03-29T00:40:03.117011Z",
     "start_time": "2022-03-29T00:40:03.102599Z"
    },
    "deletable": false,
    "id": "h2VuYZYi9Xz8",
    "nbgrader": {
     "cell_type": "code",
     "checksum": "eea671e6e40d128259853f73670ecdfb",
     "grade": false,
     "grade_id": "A7",
     "locked": false,
     "schema_version": 3,
     "solution": true,
     "task": false
    }
   },
   "outputs": [],
   "source": [
    "from queue import Queue\n",
    "# def q7_balanced (expression):\n",
    "#     q1 = Queue(maxsize = 0)\n",
    "#     mapping = {\")\": \"(\", \"}\": \"{\", \"]\": \"[\", \"(\" : \")\" , \"{\" : \"}\", \"[\" : \"]\"}\n",
    "#     for i in expression:\n",
    "#         if i in mapping:\n",
    "#             q1.put(i)\n",
    "#     lst1 = []\n",
    "#     while not q1.empty():\n",
    "#         i = q1.get()\n",
    "#         lst1.append(i)\n",
    "#         if mapping[i] in lst1:\n",
    "#             lst2 = lst1[::-1]\n",
    "#             if abs(lst2.index(i) - lst2.index(mapping[i])) == 1:\n",
    "#                 lst1.remove(i)\n",
    "#                 lst1.remove(mapping[i])\n",
    "#     return not bool(len(lst1))\n",
    "\n",
    "def q7_balanced (expression):\n",
    "    q1 = Queue(maxsize = 0)\n",
    "    mapping = {\"(\" : \")\" , \"{\" : \"}\", \"[\" : \"]\"}\n",
    "    for i in expression:\n",
    "        if i in mapping:\n",
    "            q1.put(i)\n",
    "        elif i in mapping.values():\n",
    "            q2 = Queue(maxsize = 0)\n",
    "            while q1.qsize() > 1:\n",
    "                q2.put(q1.get())\n",
    "            a = q1.get()\n",
    "            if mapping[a] != i:\n",
    "                return False\n",
    "            q1 = q2\n",
    "    return q1.qsize() == 0\n",
    "\n",
    "    # YOUR CODE HERE"
   ]
  },
  {
   "cell_type": "code",
   "execution_count": 20,
   "metadata": {
    "id": "bjs9xcGn9Xz8"
   },
   "outputs": [],
   "source": [
    "# Sample test cases\n",
    "\n",
    "assert q7_balanced (\"(a)\")\n",
    "assert q7_balanced (\"({[]})()\")\n",
    "assert not q7_balanced (\"((())\")\n",
    "assert q7_balanced (\"((x+y)+(m+n))\")"
   ]
  },
  {
   "cell_type": "code",
   "execution_count": 21,
   "metadata": {
    "ExecuteTime": {
     "end_time": "2022-03-29T00:14:59.668116Z",
     "start_time": "2022-03-29T00:14:59.654644Z"
    },
    "deletable": false,
    "editable": false,
    "id": "tYo2HUPb9Xz8",
    "nbgrader": {
     "cell_type": "code",
     "checksum": "53635cafeb8086883e10e3422eb9fe47",
     "grade": true,
     "grade_id": "test_A7-expression",
     "locked": true,
     "points": 10,
     "schema_version": 3,
     "solution": false,
     "task": false
    }
   },
   "outputs": [],
   "source": [
    "# Testing Cell (Do NOT modify this cell)"
   ]
  },
  {
   "cell_type": "markdown",
   "metadata": {
    "id": "XmIQOcQL9Xz8"
   },
   "source": [
    "#### Question 8&nbsp;&nbsp;&nbsp;&nbsp;&nbsp;&nbsp;(10 Points)\n",
    "Using the `queue` class from the `Queue` module, write a function `q8_sortqueue` to sort a queue of integers without using any other interim data structure. The function should return the sorted queue as a list. The queue is essentially to be sorted \"in-place\".\n",
    "\n",
    "Create a queue with the elements 30, 11, 15 and assign it to the variable `q8`. Use `q8_sortqueue(q8)` to check if the method is correctly working."
   ]
  },
  {
   "cell_type": "code",
   "execution_count": 22,
   "metadata": {
    "ExecuteTime": {
     "end_time": "2022-03-29T00:51:11.957562Z",
     "start_time": "2022-03-29T00:51:11.942572Z"
    },
    "deletable": false,
    "id": "q1ivOZ9j9Xz8",
    "nbgrader": {
     "cell_type": "code",
     "checksum": "e89d874bd7513e35fb845a901b130574",
     "grade": false,
     "grade_id": "A8",
     "locked": false,
     "schema_version": 3,
     "solution": true,
     "task": false
    }
   },
   "outputs": [],
   "source": [
    "from queue import Queue\n",
    "\n",
    "def q8_sortqueue(q):\n",
    "    n = q.qsize()\n",
    "    for i in range(n):\n",
    "        s = q.get()\n",
    "        for j in range(n-1):\n",
    "            l = q.get()\n",
    "            if s > l:\n",
    "                q.put(l)\n",
    "            else:\n",
    "                q.put(s)\n",
    "                s = l\n",
    "        q.put(s)\n",
    "    lst1 = []\n",
    "    while not q.empty():\n",
    "        lst1.append(q.get())\n",
    "    return lst1\n",
    "\n",
    "    # YOUR CODE HERE\n"
   ]
  },
  {
   "cell_type": "code",
   "execution_count": 32,
   "metadata": {
    "colab": {
     "base_uri": "https://localhost:8080/"
    },
    "id": "HgRSgPen9Xz8",
    "outputId": "13cbacc1-ff3c-46e9-b43b-bc28c4680da9"
   },
   "outputs": [
    {
     "data": {
      "text/plain": [
       "[10, 11, 15, 30, 40]"
      ]
     },
     "execution_count": 32,
     "metadata": {},
     "output_type": "execute_result"
    }
   ],
   "source": [
    "# Sample test case\n",
    "\n",
    "q8 = Queue()\n",
    "q8.put(30)\n",
    "q8.put(10)\n",
    "q8.put(40)\n",
    "q8.put(11)\n",
    "q8.put(15)\n",
    "q8_sortqueue(q8)"
   ]
  },
  {
   "cell_type": "code",
   "execution_count": 24,
   "metadata": {
    "ExecuteTime": {
     "end_time": "2022-03-29T00:44:15.950238Z",
     "start_time": "2022-03-29T00:44:15.933283Z"
    },
    "deletable": false,
    "editable": false,
    "id": "tSMo6M5L9Xz9",
    "nbgrader": {
     "cell_type": "code",
     "checksum": "28ac9be8302bff52e63e3788d6792b3a",
     "grade": true,
     "grade_id": "test_A8-shortQueue",
     "locked": true,
     "points": 10,
     "schema_version": 3,
     "solution": false,
     "task": false
    }
   },
   "outputs": [],
   "source": [
    "# Testing Cell (Do NOT modify this cell)"
   ]
  },
  {
   "cell_type": "markdown",
   "metadata": {
    "id": "K4KBdNAR9Xz9"
   },
   "source": [
    "#### Question 9&nbsp;&nbsp;&nbsp;&nbsp;&nbsp;&nbsp;(10 Points)\n",
    "Write a function, `q9_reversequeue`, to **reverse** the elements in a `queue.Queue`. The elements of the reversed queue should be returned as a list. Create a queue with the elements 1, 2, 3, 4, 5 and assign it to the variable `q9`. Use `q9_reversequeue(q9)` to check if the method is correctly working."
   ]
  },
  {
   "cell_type": "code",
   "execution_count": 25,
   "metadata": {
    "ExecuteTime": {
     "end_time": "2022-03-29T00:54:49.136543Z",
     "start_time": "2022-03-29T00:54:49.117557Z"
    },
    "deletable": false,
    "id": "-7NGpxAi9Xz9",
    "nbgrader": {
     "cell_type": "code",
     "checksum": "ed9aa4a7e057208c804bd15a9eac17ac",
     "grade": false,
     "grade_id": "A9",
     "locked": false,
     "schema_version": 3,
     "solution": true,
     "task": false
    }
   },
   "outputs": [],
   "source": [
    "from queue import Queue\n",
    "\n",
    "def q9_reversequeue(queue):\n",
    "    reverse_list = []\n",
    "    while not queue.empty():\n",
    "        reverse_list.append(queue.get())\n",
    "    reverse_list.sort(reverse = True)\n",
    "    return reverse_list\n",
    "\n",
    "    # YOUR CODE HERE\n"
   ]
  },
  {
   "cell_type": "code",
   "execution_count": 26,
   "metadata": {
    "colab": {
     "base_uri": "https://localhost:8080/"
    },
    "id": "9ZNv4YcV9Xz9",
    "outputId": "c499914c-f855-4ebb-c010-277025587205"
   },
   "outputs": [
    {
     "data": {
      "text/plain": [
       "[5, 4, 3, 2, 1]"
      ]
     },
     "execution_count": 26,
     "metadata": {},
     "output_type": "execute_result"
    }
   ],
   "source": [
    "# Sample test case\n",
    "\n",
    "q9 = Queue()\n",
    "q9.put(1)\n",
    "q9.put(2)\n",
    "q9.put(3)\n",
    "q9.put(4)\n",
    "q9.put(5)\n",
    "q9_reversequeue(q9)"
   ]
  },
  {
   "cell_type": "code",
   "execution_count": 27,
   "metadata": {
    "ExecuteTime": {
     "end_time": "2022-03-29T00:52:31.001297Z",
     "start_time": "2022-03-29T00:52:30.997308Z"
    },
    "deletable": false,
    "editable": false,
    "id": "ma6_SNpd9Xz9",
    "nbgrader": {
     "cell_type": "code",
     "checksum": "be44ade7b49c05fa1784c4b84c5e9360",
     "grade": true,
     "grade_id": "test_A9-reverseQueue",
     "locked": true,
     "points": 10,
     "schema_version": 3,
     "solution": false,
     "task": false
    }
   },
   "outputs": [],
   "source": [
    "# Testing Cell (Do NOT modify this cell)"
   ]
  },
  {
   "cell_type": "markdown",
   "metadata": {
    "id": "ODVhHKXG9X0K"
   },
   "source": [
    "#### Question 10&nbsp;&nbsp;&nbsp;&nbsp;&nbsp;&nbsp;(10 Points)\n",
    "Write a Python function, `q10_is_palindrome`, to check if a sequence of characters is a [palindrome](https://en.wikipedia.org/wiki/Palindrome) by using a Stack **and** a Queue. In comparing characters, all whitespace and the case of the characters should be ignored - however, puncatuation should be considered. For example:\n",
    "```python\n",
    "   \"Live on time, emit no evil\"\n",
    "```\n",
    "is a palindrome, while:\n",
    "```python\n",
    "    \"Was it a car or a cat I saw?\"\n",
    "```\n",
    "is not because of the unbalanced `'?'` at the end.\n",
    "\n",
    "If the input string is a palindrome, return `True`. Otherwise, `False`."
   ]
  },
  {
   "cell_type": "code",
   "execution_count": 28,
   "metadata": {
    "ExecuteTime": {
     "end_time": "2022-03-29T01:18:35.258063Z",
     "start_time": "2022-03-29T01:18:35.236899Z"
    },
    "deletable": false,
    "id": "PXjgF5r69X0L",
    "nbgrader": {
     "cell_type": "code",
     "checksum": "5ddc13dbc88e1d1c9ed82f643366085a",
     "grade": false,
     "grade_id": "A10",
     "locked": false,
     "schema_version": 3,
     "solution": true,
     "task": false
    }
   },
   "outputs": [],
   "source": [
    "from queue import Queue, LifoQueue\n",
    "def q10_is_palindrome(sequence):\n",
    "    s1 = LifoQueue()\n",
    "    q1 = Queue()\n",
    "    for i in sequence.lower():\n",
    "        if i == \" \":\n",
    "            continue\n",
    "        else:\n",
    "            s1.put(i)\n",
    "            q1.put(i)\n",
    "    while not s1.empty():\n",
    "        if s1.get() == q1.get():\n",
    "            continue\n",
    "        else:\n",
    "            return False\n",
    "    return True\n",
    "    # YOUR CODE HERE\n",
    "\n"
   ]
  },
  {
   "cell_type": "code",
   "execution_count": 29,
   "metadata": {
    "id": "M-AnZblK9X0L"
   },
   "outputs": [],
   "source": [
    "# Sample test cases\n",
    "\n",
    "assert q10_is_palindrome (\"Step on no pets\")\n",
    "assert q10_is_palindrome(\"No x in Nixon\")\n",
    "assert not q10_is_palindrome(\"Was it a car or a cat I saw?\") # note the '?'\n",
    "assert q10_is_palindrome (\"Live on time, emit no evil\")"
   ]
  },
  {
   "cell_type": "code",
   "execution_count": 30,
   "metadata": {
    "ExecuteTime": {
     "end_time": "2022-03-29T01:16:06.709957Z",
     "start_time": "2022-03-29T01:16:06.707452Z"
    },
    "deletable": false,
    "editable": false,
    "id": "nc11dZC_9X0L",
    "nbgrader": {
     "cell_type": "code",
     "checksum": "aeedcc397247fb63216c9fe454487e0f",
     "grade": true,
     "grade_id": "test_A11-stacks",
     "locked": true,
     "points": 10,
     "schema_version": 3,
     "solution": false,
     "task": false
    }
   },
   "outputs": [],
   "source": [
    "# Testing Cell (Do NOT modify this cell)"
   ]
  }
 ],
 "metadata": {
  "colab": {
   "provenance": []
  },
  "hide_input": false,
  "kernelspec": {
   "display_name": "Python 3 (ipykernel)",
   "language": "python",
   "name": "python3"
  },
  "language_info": {
   "codemirror_mode": {
    "name": "ipython",
    "version": 3
   },
   "file_extension": ".py",
   "mimetype": "text/x-python",
   "name": "python",
   "nbconvert_exporter": "python",
   "pygments_lexer": "ipython3",
   "version": "3.11.4"
  },
  "nbTranslate": {
   "displayLangs": [
    "*"
   ],
   "hotkey": "alt-t",
   "langInMainMenu": true,
   "sourceLang": "en",
   "targetLang": "fr",
   "useGoogleTranslate": true
  },
  "toc": {
   "base_numbering": 1,
   "nav_menu": {},
   "number_sections": true,
   "sideBar": true,
   "skip_h1_title": false,
   "title_cell": "Table of Contents",
   "title_sidebar": "Contents",
   "toc_cell": false,
   "toc_position": {},
   "toc_section_display": true,
   "toc_window_display": false
  },
  "varInspector": {
   "cols": {
    "lenName": 16,
    "lenType": 16,
    "lenVar": 40
   },
   "kernels_config": {
    "python": {
     "delete_cmd_postfix": "",
     "delete_cmd_prefix": "del ",
     "library": "var_list.py",
     "varRefreshCmd": "print(var_dic_list())"
    },
    "r": {
     "delete_cmd_postfix": ") ",
     "delete_cmd_prefix": "rm(",
     "library": "var_list.r",
     "varRefreshCmd": "cat(var_dic_list()) "
    }
   },
   "types_to_exclude": [
    "module",
    "function",
    "builtin_function_or_method",
    "instance",
    "_Feature"
   ],
   "window_display": false
  }
 },
 "nbformat": 4,
 "nbformat_minor": 1
}
